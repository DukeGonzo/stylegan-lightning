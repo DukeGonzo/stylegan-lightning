{
 "cells": [
  {
   "cell_type": "code",
   "execution_count": null,
   "metadata": {},
   "outputs": [],
   "source": [
    "import os\n",
    "# os.environ[\"CUDA_VISIBLE_DEVICES\"] = \"0\""
   ]
  },
  {
   "cell_type": "code",
   "execution_count": null,
   "metadata": {},
   "outputs": [],
   "source": [
    "# import math\n",
    "import numpy as np\n",
    "from typing import Any, Optional, List\n",
    "import torch\n",
    "import torch.nn as nn\n",
    "import torch.nn.functional as F\n",
    "from torch.utils.tensorboard import SummaryWriter\n",
    "import torchvision"
   ]
  },
  {
   "cell_type": "code",
   "execution_count": null,
   "metadata": {},
   "outputs": [],
   "source": [
    "torch.backends.cudnn.version()"
   ]
  },
  {
   "cell_type": "code",
   "execution_count": null,
   "metadata": {},
   "outputs": [],
   "source": [
    "torch.backends.cudnn.benchmark = True"
   ]
  },
  {
   "cell_type": "code",
   "execution_count": null,
   "metadata": {},
   "outputs": [],
   "source": [
    "# import numpy as np"
   ]
  },
  {
   "cell_type": "code",
   "execution_count": null,
   "metadata": {},
   "outputs": [],
   "source": [
    "import torch.autograd.profiler as profiler"
   ]
  },
  {
   "cell_type": "code",
   "execution_count": null,
   "metadata": {},
   "outputs": [],
   "source": [
    "import pytorch_lightning as pl"
   ]
  },
  {
   "cell_type": "code",
   "execution_count": null,
   "metadata": {},
   "outputs": [],
   "source": [
    "import matplotlib.pyplot as plt\n",
    "import matplotlib.patches as patches\n",
    "\n",
    "plt.style.use('ggplot')\n",
    "%matplotlib inline\n",
    "plt.rcParams['figure.figsize'] = (18,12) # set default size of plots"
   ]
  },
  {
   "cell_type": "code",
   "execution_count": null,
   "metadata": {},
   "outputs": [],
   "source": [
    "import stylegan, data_module"
   ]
  },
  {
   "cell_type": "code",
   "execution_count": null,
   "metadata": {},
   "outputs": [],
   "source": [
    "gan = stylegan.GanTask(gamma=28, ppl_reg_every=4, penalize_d_every=16, resolution=512)"
   ]
  },
  {
   "cell_type": "code",
   "execution_count": null,
   "metadata": {},
   "outputs": [],
   "source": [
    "gan = gan.load_from_checkpoint(checkpoint_path=\"./lightning_logs/version_30/checkpoints/epoch=3-step=23157.ckpt\", strict=False)"
   ]
  },
  {
   "cell_type": "code",
   "execution_count": null,
   "metadata": {},
   "outputs": [],
   "source": [
    "# dick = torch.load('new_synthesis_net.pt')\n",
    "# gan.synthesis_net.load_state_dict(dick, strict=True)\n",
    "# dick = torch.load('mapping_network.pt')\n",
    "# gan.mapping_net.load_state_dict(dick, strict=True)\n"
   ]
  },
  {
   "source": [
    "dm = data_module.DataModule(data_dir='/mnt/data/datasets/caricatures/20200726_multimodal_celeba_images',\n",
    "                                batch_size=16, \n",
    "                                balanced_sampling=True,resolution=512)"
   ],
   "cell_type": "code",
   "metadata": {},
   "execution_count": null,
   "outputs": []
  },
  {
   "cell_type": "code",
   "execution_count": null,
   "metadata": {},
   "outputs": [],
   "source": [
    "# dm = data_module.DataModule(data_dir='./dataset',\n",
    "#                                 batch_size=16, \n",
    "#                                 balanced_sampling=True,resolution=512)"
   ]
  },
  {
   "cell_type": "code",
   "execution_count": null,
   "metadata": {},
   "outputs": [],
   "source": [
    "# dm.setup()"
   ]
  },
  {
   "cell_type": "code",
   "execution_count": null,
   "metadata": {},
   "outputs": [],
   "source": [
    "# dl = dm.train_dataloader()"
   ]
  },
  {
   "cell_type": "code",
   "execution_count": null,
   "metadata": {},
   "outputs": [],
   "source": [
    "# for batch in dl:\n",
    "#     break"
   ]
  },
  {
   "cell_type": "code",
   "execution_count": null,
   "metadata": {},
   "outputs": [],
   "source": [
    "# labels = F.one_hot(batch[1].long(), 2).float().cuda() #TODO: remove\n"
   ]
  },
  {
   "cell_type": "code",
   "execution_count": null,
   "metadata": {},
   "outputs": [],
   "source": [
    "# gan = gan.cuda()"
   ]
  },
  {
   "cell_type": "code",
   "execution_count": null,
   "metadata": {},
   "outputs": [],
   "source": [
    "# batch[0] = batch[0].cuda()"
   ]
  },
  {
   "cell_type": "code",
   "execution_count": null,
   "metadata": {},
   "outputs": [],
   "source": [
    "# batch[1] = batch[1].cuda()"
   ]
  },
  {
   "cell_type": "code",
   "execution_count": null,
   "metadata": {},
   "outputs": [],
   "source": [
    "# with profiler.profile(record_shapes=True, profile_memory=True, use_cuda=True, with_stack=True) as prof:\n",
    "#     with profiler.record_function(\"model_inference\"):\n",
    "#         gan.training_step(batch, 0, 0)"
   ]
  },
  {
   "cell_type": "code",
   "execution_count": null,
   "metadata": {},
   "outputs": [],
   "source": [
    "# with profiler.profile(record_shapes=True, profile_memory=True, use_cuda=True, with_stack=True) as prof:\n",
    "#     with profiler.record_function(\"model_inference\"):\n",
    "#         gan(4, labels)"
   ]
  },
  {
   "cell_type": "code",
   "execution_count": null,
   "metadata": {},
   "outputs": [],
   "source": [
    "# kav = prof.key_averages()"
   ]
  },
  {
   "cell_type": "code",
   "execution_count": null,
   "metadata": {},
   "outputs": [],
   "source": [
    "# kav.total_average()"
   ]
  },
  {
   "cell_type": "code",
   "execution_count": null,
   "metadata": {},
   "outputs": [],
   "source": [
    "# a = torch.randn(1000000, 3)\n",
    "# b = torch.randn(1000000, 3)\n",
    "\n",
    "# with torch.autograd.profiler.profile(use_cuda=True) as prof:\n",
    "#     torch.mm(a.T, b)\n",
    "# print(prof.key_averages().table(sort_by=\"self_cpu_time_total\"))\n",
    "# # Self CPU time total: 12.777ms\n",
    "# # CUDA time total: 12.951ms\n",
    "\n",
    "# a, b = a.cuda(), b.cuda()\n",
    "# with torch.autograd.profiler.profile(use_cuda=True) as prof:\n",
    "#     torch.mm(a.T, b)\n",
    "# print(prof.key_averages().table(sort_by=\"self_cpu_time_total\"))"
   ]
  },
  {
   "cell_type": "code",
   "execution_count": null,
   "metadata": {},
   "outputs": [],
   "source": [
    "class Hooks(pl.Callback):\n",
    "    num = 0\n",
    "    one_hot = F.one_hot(\n",
    "        torch.cat(\n",
    "            (torch.zeros((3,)).long(),\n",
    "            torch.ones((3,)).long())\n",
    "        ), 2).float()\n",
    "\n",
    "    def on_epoch_end(self, trainer, model: stylegan.GanTask):\n",
    "        with torch.no_grad():\n",
    "            fake_images, fake_latents = model.forward(6, self.one_hot.cuda())\n",
    "            tensorboard = trainer.logger.experiment\n",
    "            grid = torchvision.utils.make_grid(fake_images.cpu(), normalize=True, range=(-1, 1))\n",
    "            tensorboard.add_image('images', grid, self.num)\n",
    "            self.num += 1     "
   ]
  },
  {
   "cell_type": "code",
   "execution_count": null,
   "metadata": {},
   "outputs": [],
   "source": [
    "trainer = pl.Trainer(\n",
    "    benchmark=True,\n",
    "    automatic_optimization=False, gpus=1, \n",
    "    accumulate_grad_batches=1, \n",
    "    precision=32,\n",
    "    callbacks=[Hooks()],\n",
    "    default_root_dir = '/home/duke/store/artefacts/limner/stylegan2_caricatures',\n",
    "#   amp_backend='native', gradient_clip_val=10,\n",
    "#   amp_level='01',\n",
    "#   terminate_on_nan=True\n",
    ")"
   ]
  },
  {
   "cell_type": "code",
   "execution_count": null,
   "metadata": {
    "scrolled": false
   },
   "outputs": [],
   "source": [
    "trainer.fit(gan, dm)"
   ]
  },
  {
   "cell_type": "code",
   "execution_count": null,
   "metadata": {},
   "outputs": [],
   "source": [
    "gan = gan.cpu()"
   ]
  },
  {
   "cell_type": "code",
   "execution_count": null,
   "metadata": {},
   "outputs": [],
   "source": [
    "trainer.save_checkpoint(\"model_final_3.ckpt\")\n",
    "# new_model = MyModel.load_from_checkpoint(checkpoint_path=\"example.ckpt\")\n"
   ]
  },
  {
   "cell_type": "code",
   "execution_count": null,
   "metadata": {},
   "outputs": [],
   "source": [
    "fake_images.requires_grad"
   ]
  },
  {
   "cell_type": "code",
   "execution_count": null,
   "metadata": {},
   "outputs": [],
   "source": [
    "# with torch.no_grad():\n",
    "gan = gan.cuda()\n",
    "fake_images, fake_latents = gan.forward(8, F.one_hot(torch.ones((8,)).long(), 2).float().cuda(), mix_prob=1)\n",
    "# fake_latents.requires_grad_(True)\n",
    "# fake_images.requires_grad_(True)\n",
    "path_loss, path_lengths = gan.ppl_regularization(fake_images.cuda(), fake_latents.cuda())"
   ]
  },
  {
   "cell_type": "code",
   "execution_count": null,
   "metadata": {},
   "outputs": [],
   "source": [
    "path_loss"
   ]
  },
  {
   "cell_type": "code",
   "execution_count": null,
   "metadata": {},
   "outputs": [],
   "source": [
    "path_lengths"
   ]
  },
  {
   "cell_type": "code",
   "execution_count": null,
   "metadata": {},
   "outputs": [],
   "source": [
    "# path_loss, path_lengths = gan.ppl_regularization(fake_images, fake_latents)"
   ]
  },
  {
   "cell_type": "code",
   "execution_count": null,
   "metadata": {},
   "outputs": [],
   "source": []
  },
  {
   "cell_type": "code",
   "execution_count": null,
   "metadata": {},
   "outputs": [],
   "source": [
    "# gan.requires_grad_(True)"
   ]
  },
  {
   "cell_type": "code",
   "execution_count": null,
   "metadata": {},
   "outputs": [],
   "source": [
    "# fake_images, fake_latents = gan.forward(8, F.one_hot(torch.zeros((8,)).long(), 2).float(), mix_prob=0)\n",
    "# path_loss, path_lengths = gan.ppl_regularization(fake_images, fake_latents)"
   ]
  },
  {
   "cell_type": "code",
   "execution_count": null,
   "metadata": {},
   "outputs": [],
   "source": [
    "# path_lengths"
   ]
  },
  {
   "cell_type": "code",
   "execution_count": null,
   "metadata": {},
   "outputs": [],
   "source": [
    "with torch.no_grad():\n",
    "    fake_images, fake_latents = gan(8, F.one_hot(torch.ones((8,)).long(), 2).float())"
   ]
  },
  {
   "cell_type": "code",
   "execution_count": null,
   "metadata": {},
   "outputs": [],
   "source": [
    "fake_latents = "
   ]
  },
  {
   "cell_type": "code",
   "execution_count": null,
   "metadata": {},
   "outputs": [],
   "source": [
    "path_lengths"
   ]
  },
  {
   "cell_type": "code",
   "execution_count": null,
   "metadata": {},
   "outputs": [],
   "source": [
    "def make_image(tensor):\n",
    "    return (\n",
    "        tensor.detach()\n",
    "        .clamp_(min=-1, max=1)\n",
    "        .add(1)\n",
    "        .div_(2)\n",
    "        .mul(255)\n",
    "        .type(torch.uint8)\n",
    "        .permute(1, 2, 0)\n",
    "        .to(\"cpu\")\n",
    "        .numpy())"
   ]
  },
  {
   "cell_type": "code",
   "execution_count": null,
   "metadata": {},
   "outputs": [],
   "source": [
    "from IPython.display import display, HTML\n",
    "import ipywidgets as widgets\n",
    "from ipywidgets import interact, interact_manual"
   ]
  },
  {
   "cell_type": "code",
   "execution_count": null,
   "metadata": {},
   "outputs": [],
   "source": [
    "noise = gan.synthesis_net.make_noise(1)"
   ]
  },
  {
   "cell_type": "code",
   "execution_count": null,
   "metadata": {},
   "outputs": [],
   "source": [
    "latents_all = []\n",
    "\n",
    "with torch.no_grad():\n",
    "    n = 2048\n",
    "    for i in range(2):\n",
    "        z = torch.randn([n, 512]).float()\n",
    "        l = F.one_hot(torch.ones((n,)).long() * i, 2).float()\n",
    "        latents_princeses = gan.mapping_net.forward(z, l)\n",
    "        latent_mean = torch.mean(latents_princeses, 0)\n",
    "        latent_plus_mean = latent_mean[None, None, :].repeat([1, 16, 1])\n",
    "        latents_all.append(latents_princeses)"
   ]
  },
  {
   "cell_type": "code",
   "execution_count": null,
   "metadata": {},
   "outputs": [],
   "source": [
    "fake_latents = latents_princeses[:, None, :].repeat([1, 16, 1])"
   ]
  },
  {
   "cell_type": "code",
   "execution_count": null,
   "metadata": {},
   "outputs": [],
   "source": [
    "ilya1 = np.load('./ilya1.npy')\n",
    "ilya2 = np.load('./ilya2.npy')\n",
    "ilya3 = np.load('./ilya3.npy')\n",
    "ilya4 = np.load('./ilya4.npy')"
   ]
  },
  {
   "cell_type": "code",
   "execution_count": null,
   "metadata": {},
   "outputs": [],
   "source": [
    "fake_latents[0] = torch.from_numpy(ilya1)\n",
    "fake_latents[1] = torch.from_numpy(ilya2)\n",
    "fake_latents[2] = torch.from_numpy(ilya3)\n",
    "fake_latents[3] = torch.from_numpy(ilya4)"
   ]
  },
  {
   "cell_type": "code",
   "execution_count": null,
   "metadata": {},
   "outputs": [],
   "source": [
    "@interact\n",
    "def play_with_mix(i=(0,len(fake_latents),1), j=(0,len(fake_latents),1), c=(0,1,0.05), nc=(0,1,0.1), truncation=(0.0,1.0,0.1)):\n",
    "    with torch.no_grad():\n",
    "    #     print(path_lengths[j].item())\n",
    "        n = torch.randn_like(fake_latents[i][None, :, :]) * 0.5\n",
    "        latend = (c * fake_latents[i][None, :, :] + (1 -c) * fake_latents[j][None, :, :])\n",
    "\n",
    "        latent_plus = latend + n * nc\n",
    "        latent_plus = latent_plus_mean.lerp(latent_plus, truncation)\n",
    "\n",
    "        old_img = make_image(gan.synthesis_net.forward(latent_plus, noise)[0])\n",
    "        ema_img = make_image(gan.synthesis_net_ema.forward(latent_plus, noise)[0])\n",
    "\n",
    "        fig = plt.figure()\n",
    "        ax1 = fig.add_subplot(1,2,1)\n",
    "        ax1.imshow(old_img)\n",
    "        ax1.grid(False)\n",
    "        ax2 = fig.add_subplot(1,2,2)\n",
    "        ax2.imshow(ema_img)\n",
    "        ax2.grid(False)\n",
    "        plt.show()"
   ]
  },
  {
   "cell_type": "code",
   "execution_count": null,
   "metadata": {},
   "outputs": [],
   "source": []
  },
  {
   "cell_type": "code",
   "execution_count": null,
   "metadata": {},
   "outputs": [],
   "source": []
  },
  {
   "cell_type": "code",
   "execution_count": null,
   "metadata": {},
   "outputs": [],
   "source": []
  },
  {
   "cell_type": "markdown",
   "metadata": {},
   "source": [
    "# PCA "
   ]
  },
  {
   "cell_type": "code",
   "execution_count": null,
   "metadata": {},
   "outputs": [],
   "source": [
    "from types import SimpleNamespace\n",
    "import fbpca\n",
    "import itertools"
   ]
  },
  {
   "cell_type": "code",
   "execution_count": null,
   "metadata": {},
   "outputs": [],
   "source": [
    "# Facebook's PCA\n",
    "# Good default choice: very fast and accurate.\n",
    "# Very high sample counts won't fit into RAM,\n",
    "# in which case IncrementalPCA must be used.\n",
    "class FacebookPCAEstimator():\n",
    "    def __init__(self, n_components):\n",
    "        self.n_components = n_components\n",
    "        self.transformer = SimpleNamespace()\n",
    "        self.batch_support = False\n",
    "        self.n_iter = 2\n",
    "        self.l = 2*self.n_components\n",
    "\n",
    "    def get_param_str(self):\n",
    "        return \"fbpca_c{}_it{}_l{}\".format(self.n_components, self.n_iter, self.l)\n",
    "\n",
    "    def fit(self, X):\n",
    "        U, s, Va = fbpca.pca(X, k=self.n_components, n_iter=self.n_iter, raw=True, l=self.l)\n",
    "        self.transformer.components_ = Va\n",
    "        \n",
    "        # Save variance for later\n",
    "        self.total_var = X.var(axis=0).sum()\n",
    "\n",
    "        # Compute projected standard deviations\n",
    "        self.stdev = np.dot(self.transformer.components_, X.T).std(axis=1)\n",
    "\n",
    "        # Sort components based on explained variance\n",
    "        idx = np.argsort(self.stdev)[::-1]\n",
    "        self.stdev = self.stdev[idx]\n",
    "        self.transformer.components_[:] = self.transformer.components_[idx]\n",
    "\n",
    "        # Check orthogonality\n",
    "        dotps = [np.dot(*self.transformer.components_[[i, j]])\n",
    "            for (i, j) in itertools.combinations(range(self.n_components), 2)]\n",
    "        if not np.allclose(dotps, 0, atol=1e-4):\n",
    "            print('FBPCA components not orghogonal, max dot', np.abs(dotps).max())\n",
    "\n",
    "        self.transformer.mean_ = X.mean(axis=0, keepdims=True)\n",
    "        \n",
    "    def get_components(self):\n",
    "        var_ratio = self.stdev**2 / self.total_var\n",
    "        return self.transformer.components_, self.stdev, var_ratio"
   ]
  },
  {
   "cell_type": "code",
   "execution_count": null,
   "metadata": {},
   "outputs": [],
   "source": [
    "pile_of_latents = []\n",
    "n = 2048\n",
    "\n",
    "with torch.no_grad():\n",
    "    for label in range(2):\n",
    "        for _ in range(64):\n",
    "            z = torch.randn([n, 512]).float()\n",
    "            l = F.one_hot(torch.ones((n,)).long() * label, 2).float()\n",
    "            latents_princeses = gan.mapping_net.forward(z, l)\n",
    "            pile_of_latents.append(latents_princeses.cpu().detach().numpy())\n"
   ]
  },
  {
   "cell_type": "code",
   "execution_count": null,
   "metadata": {},
   "outputs": [],
   "source": [
    "latentz =  np.concatenate(pile_of_latents)"
   ]
  },
  {
   "cell_type": "code",
   "execution_count": null,
   "metadata": {},
   "outputs": [],
   "source": [
    "estimator = FacebookPCAEstimator(n_components=512)"
   ]
  },
  {
   "cell_type": "code",
   "execution_count": null,
   "metadata": {},
   "outputs": [],
   "source": [
    "estimator.fit(F.leaky_relu(torch.tensor(latentz), negative_slope=5.0))"
   ]
  },
  {
   "cell_type": "code",
   "execution_count": null,
   "metadata": {},
   "outputs": [],
   "source": [
    "X_comp, X_stdev, X_var_ratio = estimator.get_components()"
   ]
  },
  {
   "cell_type": "code",
   "execution_count": null,
   "metadata": {},
   "outputs": [],
   "source": [
    "X_comp_norm = X_comp /  np.linalg.norm(X_comp, axis=-1, keepdims=True)"
   ]
  },
  {
   "cell_type": "code",
   "execution_count": null,
   "metadata": {},
   "outputs": [],
   "source": [
    "X_comp_norm = F.leaky_relu(torch.tensor(X_comp_norm), negative_slope=0.2)"
   ]
  },
  {
   "cell_type": "code",
   "execution_count": null,
   "metadata": {},
   "outputs": [],
   "source": [
    "# np.save('pca_vectors.npy', X_comp_norm)"
   ]
  },
  {
   "cell_type": "code",
   "execution_count": null,
   "metadata": {},
   "outputs": [],
   "source": [
    "computed_latentz =  fake_latents"
   ]
  },
  {
   "cell_type": "code",
   "execution_count": null,
   "metadata": {},
   "outputs": [],
   "source": [
    "latent_plus_mean.shape"
   ]
  },
  {
   "cell_type": "code",
   "execution_count": null,
   "metadata": {},
   "outputs": [],
   "source": [
    "X_comp_norm.shape"
   ]
  },
  {
   "cell_type": "code",
   "execution_count": null,
   "metadata": {},
   "outputs": [],
   "source": [
    "@interact\n",
    "def mix(index = (0, 511, 1),\n",
    "        shift = (-40,40,0.5),\n",
    "        index_2 = (0, 511, 1),\n",
    "        shift_2 = (-40,40,0.5),\n",
    "        index_3 = (0, 511, 1),\n",
    "        shift_3 = (-40,40,0.5),\n",
    "        latent_index = (0, len(computed_latentz) - 1, 1),\n",
    "        artefacts_shift = (0,30,0.5),\n",
    "        cari_shift = (0,12,0.5),\n",
    "        truncation=(0.0,1.0,0.1),\n",
    "       save = False,\n",
    "       write_video = False):\n",
    "\n",
    "    latent = computed_latentz[latent_index] \n",
    "    latent = latent_plus_mean[0].lerp(latent, truncation)\n",
    "\n",
    "    \n",
    "    direction = X_comp_norm[int(index)] \n",
    "    direction_2 = X_comp_norm[int(index_2)] \n",
    "    direction_3 = X_comp_norm[int(index_3)] \n",
    "    \n",
    "    shifted_latent = latent + shift * direction + cari_shift * X_comp_norm[int(0)] - artefacts_shift * X_comp_norm[int(11)]  \n",
    "    shifted_latent_minus = latent - shift * direction + cari_shift * X_comp_norm[int(0)] - artefacts_shift * X_comp_norm[int(11)]  \n",
    "    \n",
    "    shifted_latent += shift_2 * direction_2\n",
    "    shifted_latent_minus -= shift_2 * direction_2\n",
    "    \n",
    "    shifted_latent += shift_3 * direction_3\n",
    "    shifted_latent_minus -= shift_3 * direction_3\n",
    "\n",
    "    \n",
    "    latents_ = np.stack([shifted_latent_minus, latent, shifted_latent])\n",
    "    \n",
    "    with torch.no_grad():\n",
    "        noise = gan.synthesis_net.make_noise(3)\n",
    "        #print(latents_.shape)\n",
    "        rezults = gan.synthesis_net_ema.forward(torch.from_numpy(latents_).float(), noise)\n",
    "\n",
    "    out_minus = make_image(rezults[0])\n",
    "    src = make_image(rezults[1])\n",
    "    img = make_image(rezults[2])\n",
    "    \n",
    "#     img = np.clip(img, 0, 1)\n",
    "#     out_minus = np.clip(out_minus, 0, 1)\n",
    "#     src = np.clip(src, 0, 1)\n",
    "    \n",
    "    if save:\n",
    "        np.save(f'latent_index_{latent_index}_shift_{shift}_{shift_2}_{shift_3}_index_{index}_{index_2}_{index_3}_artefacts_shift_{artefacts_shift}.npy', shifted_latent)\n",
    "        np.save(f'latent_index_{latent_index}_shift_-{shift}_{shift_2}_{shift_3}_index_{index}_{index_2}_{index_3}_artefacts_shift_{artefacts_shift}.npy', shifted_latent_minus)\n",
    "        plt.imsave(f'latent_index_{latent_index}_shift_{shift}_{shift_2}_{shift_3}_index_{index}_{index_2}_{index_3}_artefacts_shift_{artefacts_shift}.png', img)\n",
    "\n",
    "#     if write_video:\n",
    "#         fid = f'{latent_index}_-_shift_{shift}_{shift_2}_{shift_3}_index_{index}_{index_2}_{index_3}_{artefacts_shift}_{cari_shift}'\n",
    "#         make_video(synthesis_net, latent, shifted_latent_minus, f'latents/512/{fid}')\n",
    "#         plt.imsave(f'latents/512/{fid}/final.png', out_minus)\n",
    "\n",
    "#         fid = f'{latent_index}__shift_{shift}_{shift_2}_{shift_3}_index_{index}_{index_2}_{index_3}_{artefacts_shift}_{cari_shift}'\n",
    "#         make_video(synthesis_net, latent, shifted_latent, f'latents/512/{fid}')\n",
    "#         plt.imsave(f'latents/512/{fid}/final.png', img)\n",
    "\n",
    "        \n",
    "\n",
    "    fig = plt.figure()\n",
    "    ax1 = fig.add_subplot(1,3,1)\n",
    "    ax1.imshow(out_minus)\n",
    "    ax1.grid(False)\n",
    "    ax2 = fig.add_subplot(1,3,2)\n",
    "    ax2.imshow(src)\n",
    "    ax2.grid(False)\n",
    "    ax3 = fig.add_subplot(1,3,3)\n",
    "    ax3.imshow(img)\n",
    "    ax3.grid(False)"
   ]
  },
  {
   "cell_type": "code",
   "execution_count": null,
   "metadata": {},
   "outputs": [],
   "source": []
  },
  {
   "source": [
    "# Generate files"
   ],
   "cell_type": "markdown",
   "metadata": {}
  },
  {
   "source": [
    "for image_index in range(2048):\n",
    "    truncation = 0.6\n",
    "    latent = computed_latentz[image_index] \n",
    "    latent = latent_plus_mean[0].lerp(latent, truncation)\n",
    "\n",
    "    index = 16\n",
    "    index_2 = 351\n",
    "    index_3 = 15\n",
    "\n",
    "    shift = 1\n",
    "    shift_2 = -4\n",
    "    shift_3 = -3\n",
    "\n",
    "\n",
    "    direction = X_comp_norm[int(index)] \n",
    "    direction_2 = X_comp_norm[int(index_2)] \n",
    "    direction_3 = X_comp_norm[int(index_3)] \n",
    "\n",
    "    shifted_latent = latent\n",
    "    # shifted_latent += shift * direction\n",
    "    # shifted_latent += shift_2 * direction_2\n",
    "    # shifted_latent += shift_3 * direction_3\n",
    "\n",
    "    latents_ = np.stack([shifted_latent])\n",
    "\n",
    "    with torch.no_grad():\n",
    "        noise = gan.synthesis_net.make_noise(1)\n",
    "        #print(latents_.shape)\n",
    "        rezults = gan.synthesis_net_ema.forward(torch.from_numpy(latents_).float(), noise)\n",
    "\n",
    "    img = make_image(rezults[0])\n",
    "\n",
    "    plt.imsave(f'/mnt/sdd3/Limner/GeneratedCartoon/{3072 + image_index}.png', img)"
   ],
   "cell_type": "code",
   "metadata": {},
   "execution_count": null,
   "outputs": []
  },
  {
   "cell_type": "code",
   "execution_count": null,
   "metadata": {},
   "outputs": [],
   "source": []
  },
  {
   "cell_type": "code",
   "execution_count": null,
   "metadata": {},
   "outputs": [],
   "source": [
    "fake_latents.shape"
   ]
  },
  {
   "cell_type": "code",
   "execution_count": null,
   "metadata": {},
   "outputs": [],
   "source": [
    "# flatents = fake_latents[:,0]"
   ]
  },
  {
   "cell_type": "code",
   "execution_count": null,
   "metadata": {},
   "outputs": [],
   "source": [
    "with torch.no_grad():\n",
    "    fake_images, fake_latents = gan.forward(8, F.one_hot(torch.zeros((8,)).long(), 2).float(), mix_prob=1)"
   ]
  },
  {
   "cell_type": "code",
   "execution_count": null,
   "metadata": {},
   "outputs": [],
   "source": [
    "flatents = torch.flatten(fake_latents,start_dim=1)"
   ]
  },
  {
   "cell_type": "code",
   "execution_count": null,
   "metadata": {},
   "outputs": [],
   "source": [
    "# flatents_photo = torch.flatten(fake_latents_photo,start_dim=1)\n"
   ]
  },
  {
   "cell_type": "code",
   "execution_count": null,
   "metadata": {},
   "outputs": [],
   "source": [
    "torch.cdist(flatents, flatents)[0] "
   ]
  },
  {
   "cell_type": "code",
   "execution_count": null,
   "metadata": {},
   "outputs": [],
   "source": [
    "with torch.no_grad():\n",
    "    img = gan.synthesis_net(fake_latents)\n",
    "    lblz = F.one_hot(torch.zeros((8,)).long(), 2).float()\n",
    "    _, activations = gan.critic_net.forward(img, lblz, return_activations=True)\n",
    "    projection = gan.auxiliary_projector.forward(activations[-1])"
   ]
  },
  {
   "cell_type": "code",
   "execution_count": null,
   "metadata": {},
   "outputs": [],
   "source": [
    "torch.cdist(projection, projection)[0] "
   ]
  },
  {
   "cell_type": "code",
   "execution_count": null,
   "metadata": {},
   "outputs": [],
   "source": [
    "F.mse_loss(torch.cdist(flatents, flatents)[0] , torch.cdist(projection, projection)[0] )"
   ]
  },
  {
   "cell_type": "code",
   "execution_count": null,
   "metadata": {},
   "outputs": [],
   "source": []
  },
  {
   "cell_type": "code",
   "execution_count": null,
   "metadata": {},
   "outputs": [],
   "source": [
    "import scipy"
   ]
  },
  {
   "cell_type": "code",
   "execution_count": null,
   "metadata": {},
   "outputs": [],
   "source": [
    "from scipy import spatial"
   ]
  },
  {
   "cell_type": "code",
   "execution_count": null,
   "metadata": {},
   "outputs": [],
   "source": [
    "bath_size = 32\n",
    "with torch.no_grad():\n",
    "    latents = []\n",
    "    for _ in range(128):\n",
    "        z = torch.randn((bath_size, 512))\n",
    "        l =  F.one_hot(torch.zeros((bath_size, )).long(), 2).float()\n",
    "        w = gan.mapping_net.forward(z, l).detach().numpy()\n",
    "        latents.append(w)"
   ]
  },
  {
   "cell_type": "code",
   "execution_count": null,
   "metadata": {},
   "outputs": [],
   "source": [
    "bath_size = 32\n",
    "with torch.no_grad():\n",
    "    latents_photo = []\n",
    "    for _ in range(128):\n",
    "        z = torch.randn((bath_size, 512))\n",
    "        l =  F.one_hot(torch.ones((bath_size, )).long(), 2).float()\n",
    "        w = gan.mapping_net.forward(z, l).detach().numpy()\n",
    "        latents_photo.append(w)"
   ]
  },
  {
   "cell_type": "code",
   "execution_count": null,
   "metadata": {},
   "outputs": [],
   "source": [
    "def unfuck(x):\n",
    "    return np.maximum(0, x) + 5.0 * np.minimum(0, x)"
   ]
  },
  {
   "cell_type": "code",
   "execution_count": null,
   "metadata": {},
   "outputs": [],
   "source": [
    "latents_photo =  np.concatenate(latents_photo, axis=0)"
   ]
  },
  {
   "cell_type": "code",
   "execution_count": null,
   "metadata": {},
   "outputs": [],
   "source": [
    "latents = np.concatenate(latents, axis=0)"
   ]
  },
  {
   "cell_type": "code",
   "execution_count": null,
   "metadata": {},
   "outputs": [],
   "source": [
    "np.save('latents.npy', unfuck(latents))\n",
    "np.save('latents_photo.npy', unfuck(latents_photo))"
   ]
  },
  {
   "cell_type": "code",
   "execution_count": null,
   "metadata": {
    "scrolled": true
   },
   "outputs": [],
   "source": [
    "for i in range(32):\n",
    "    _ = plt.hist(unfuck(latents[:, i]), bins=100)\n",
    "    _ = plt.hist(unfuck(latents_photo[:, i]), bins=100, alpha=0.5)\n",
    "    plt.show()"
   ]
  },
  {
   "cell_type": "code",
   "execution_count": null,
   "metadata": {},
   "outputs": [],
   "source": []
  },
  {
   "cell_type": "code",
   "execution_count": null,
   "metadata": {},
   "outputs": [],
   "source": []
  },
  {
   "cell_type": "code",
   "execution_count": null,
   "metadata": {},
   "outputs": [],
   "source": [
    "d = spatial.distance.cdist(latents, latents)"
   ]
  },
  {
   "cell_type": "code",
   "execution_count": null,
   "metadata": {},
   "outputs": [],
   "source": []
  },
  {
   "cell_type": "code",
   "execution_count": null,
   "metadata": {},
   "outputs": [],
   "source": [
    "d_id = spatial.distance.cdist(latents, latents_photo)"
   ]
  },
  {
   "cell_type": "code",
   "execution_count": null,
   "metadata": {},
   "outputs": [],
   "source": [
    "d_p = spatial.distance.cdist(latents_photo, latents_photo)"
   ]
  },
  {
   "cell_type": "code",
   "execution_count": null,
   "metadata": {},
   "outputs": [],
   "source": [
    "d_flat = d.ravel()[d.ravel() > 0]"
   ]
  },
  {
   "cell_type": "code",
   "execution_count": null,
   "metadata": {},
   "outputs": [],
   "source": [
    "d_id_flat = d_id.ravel()[d_id.ravel() > 0]"
   ]
  },
  {
   "cell_type": "code",
   "execution_count": null,
   "metadata": {},
   "outputs": [],
   "source": [
    "d_p = d_p.ravel()[d_p.ravel() > 0]"
   ]
  },
  {
   "cell_type": "code",
   "execution_count": null,
   "metadata": {},
   "outputs": [],
   "source": [
    "plt.hist(d_flat, bins=100)\n",
    "plt.hist(d_id_flat, bins=100, alpha=0.5)\n",
    "plt.hist(d_p, bins=100, alpha=0.5, label='photos')"
   ]
  },
  {
   "cell_type": "code",
   "execution_count": null,
   "metadata": {},
   "outputs": [],
   "source": []
  },
  {
   "cell_type": "code",
   "execution_count": null,
   "metadata": {},
   "outputs": [],
   "source": []
  },
  {
   "cell_type": "code",
   "execution_count": null,
   "metadata": {},
   "outputs": [],
   "source": []
  },
  {
   "cell_type": "code",
   "execution_count": null,
   "metadata": {},
   "outputs": [],
   "source": []
  },
  {
   "cell_type": "code",
   "execution_count": null,
   "metadata": {},
   "outputs": [],
   "source": []
  },
  {
   "cell_type": "code",
   "execution_count": null,
   "metadata": {},
   "outputs": [],
   "source": []
  },
  {
   "cell_type": "code",
   "execution_count": null,
   "metadata": {},
   "outputs": [],
   "source": []
  },
  {
   "cell_type": "code",
   "execution_count": null,
   "metadata": {},
   "outputs": [],
   "source": []
  },
  {
   "cell_type": "code",
   "execution_count": null,
   "metadata": {},
   "outputs": [],
   "source": [
    "r = torch.randperm(8)\n",
    "r"
   ]
  },
  {
   "cell_type": "code",
   "execution_count": null,
   "metadata": {},
   "outputs": [],
   "source": [
    "torch.pairwise_distance(a1_flat, a1_flat[r])"
   ]
  },
  {
   "cell_type": "code",
   "execution_count": null,
   "metadata": {},
   "outputs": [],
   "source": [
    "with torch.no_grad():\n",
    "    gan.critic_net(a[0], F.one_hot(torch.randint(0, 2, (4,)), 2).float())"
   ]
  },
  {
   "cell_type": "code",
   "execution_count": null,
   "metadata": {},
   "outputs": [],
   "source": [
    "dl = dm.train_dataloader()"
   ]
  },
  {
   "cell_type": "code",
   "execution_count": null,
   "metadata": {},
   "outputs": [],
   "source": [
    "for imz, lbz in dl:\n",
    "    break"
   ]
  },
  {
   "cell_type": "code",
   "execution_count": null,
   "metadata": {},
   "outputs": [],
   "source": [
    "lbz[1]"
   ]
  },
  {
   "cell_type": "code",
   "execution_count": null,
   "metadata": {},
   "outputs": [],
   "source": [
    "a_cpu = make_image(imz[3])\n",
    "plt.imshow(a_cpu)"
   ]
  },
  {
   "cell_type": "markdown",
   "metadata": {},
   "source": [
    "37/40875 [03:16<60:23:08, 5.32s/it, loss=nan, v_num=31, path_lengths=0.379, generator_loss=2.03, critic_loss=1.42"
   ]
  },
  {
   "cell_type": "code",
   "execution_count": null,
   "metadata": {},
   "outputs": [],
   "source": [
    "skorez = gan.critic_net(imz, F.one_hot(lbz, 2))"
   ]
  },
  {
   "cell_type": "code",
   "execution_count": null,
   "metadata": {},
   "outputs": [],
   "source": [
    "jopa = torch.mean(skorez)"
   ]
  },
  {
   "cell_type": "code",
   "execution_count": null,
   "metadata": {},
   "outputs": [],
   "source": [
    "jopa.backward()"
   ]
  },
  {
   "cell_type": "code",
   "execution_count": null,
   "metadata": {},
   "outputs": [],
   "source": [
    "skorez.grad"
   ]
  },
  {
   "cell_type": "code",
   "execution_count": null,
   "metadata": {},
   "outputs": [],
   "source": [
    "gan."
   ]
  },
  {
   "cell_type": "code",
   "execution_count": null,
   "metadata": {},
   "outputs": [],
   "source": [
    "a = gan(8, F.one_hot(torch.randint(0, 2, (8,)), 2).float())"
   ]
  },
  {
   "cell_type": "code",
   "execution_count": null,
   "metadata": {},
   "outputs": [],
   "source": [
    "jopel = torch.mean(a[0])"
   ]
  },
  {
   "cell_type": "code",
   "execution_count": null,
   "metadata": {},
   "outputs": [],
   "source": [
    "jopel.backward()"
   ]
  },
  {
   "cell_type": "code",
   "execution_count": null,
   "metadata": {},
   "outputs": [],
   "source": [
    "jopel.grad"
   ]
  },
  {
   "cell_type": "code",
   "execution_count": null,
   "metadata": {},
   "outputs": [],
   "source": []
  }
 ],
 "metadata": {
  "kernelspec": {
   "display_name": "torch-cu112",
   "language": "python",
   "name": "torch-cu112"
  },
  "language_info": {
   "codemirror_mode": {
    "name": "ipython",
    "version": 3
   },
   "file_extension": ".py",
   "mimetype": "text/x-python",
   "name": "python",
   "nbconvert_exporter": "python",
   "pygments_lexer": "ipython3",
   "version": "3.8.8-final"
  }
 },
 "nbformat": 4,
 "nbformat_minor": 4
}