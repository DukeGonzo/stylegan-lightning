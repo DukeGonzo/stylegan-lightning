{
 "cells": [
  {
   "cell_type": "code",
   "execution_count": 1,
   "metadata": {},
   "outputs": [],
   "source": [
    "import os\n",
    "os.environ[\"CUDA_VISIBLE_DEVICES\"] = \"1\""
   ]
  },
  {
   "cell_type": "code",
   "execution_count": 2,
   "metadata": {},
   "outputs": [],
   "source": [
    "# import math\n",
    "import numpy as np\n",
    "from typing import Any, Optional, List\n",
    "import torch\n",
    "import torch.nn as nn\n",
    "import torch.nn.functional as F\n",
    "from torch.utils.tensorboard import SummaryWriter\n",
    "import torchvision"
   ]
  },
  {
   "cell_type": "code",
   "execution_count": 3,
   "metadata": {},
   "outputs": [
    {
     "output_type": "execute_result",
     "data": {
      "text/plain": [
       "8100"
      ]
     },
     "metadata": {},
     "execution_count": 3
    }
   ],
   "source": [
    "torch.backends.cudnn.version()"
   ]
  },
  {
   "cell_type": "code",
   "execution_count": 4,
   "metadata": {},
   "outputs": [],
   "source": [
    "torch.backends.cudnn.benchmark = True"
   ]
  },
  {
   "cell_type": "code",
   "execution_count": 5,
   "metadata": {},
   "outputs": [],
   "source": [
    "# import numpy as np"
   ]
  },
  {
   "cell_type": "code",
   "execution_count": 5,
   "metadata": {},
   "outputs": [],
   "source": [
    "import torch.autograd.profiler as profiler"
   ]
  },
  {
   "cell_type": "code",
   "execution_count": 6,
   "metadata": {},
   "outputs": [],
   "source": [
    "import pytorch_lightning as pl"
   ]
  },
  {
   "cell_type": "code",
   "execution_count": 7,
   "metadata": {},
   "outputs": [],
   "source": [
    "import matplotlib.pyplot as plt\n",
    "import matplotlib.patches as patches\n",
    "\n",
    "plt.style.use('ggplot')\n",
    "%matplotlib inline\n",
    "plt.rcParams['figure.figsize'] = (18,12) # set default size of plots"
   ]
  },
  {
   "cell_type": "code",
   "execution_count": 8,
   "metadata": {},
   "outputs": [],
   "source": [
    "import stylegan, data_module"
   ]
  },
  {
   "cell_type": "code",
   "execution_count": 9,
   "metadata": {},
   "outputs": [],
   "source": [
    "gan = stylegan.GanTask(gamma=28, ppl_reg_every=8, penalize_d_every=16, resolution=512)"
   ]
  },
  {
   "cell_type": "code",
   "execution_count": 13,
   "metadata": {},
   "outputs": [],
   "source": [
    "# gan = gan.load_from_checkpoint(checkpoint_path=\"lightning_logs/*.ckpt\")"
   ]
  },
  {
   "cell_type": "code",
   "execution_count": null,
   "metadata": {},
   "outputs": [],
   "source": [
    "# dick = torch.load('new_synthesis_net.pt')\n",
    "# gan.synthesis_net.load_state_dict(dick, strict=True)\n",
    "# dick = torch.load('mapping_network.pt')\n",
    "# gan.mapping_net.load_state_dict(dick, strict=True)\n"
   ]
  },
  {
   "cell_type": "code",
   "execution_count": 10,
   "metadata": {},
   "outputs": [],
   "source": [
    "dm = data_module.DataModule(data_dir='/mnt/sdd3/Limner/celeba_cartoons/',\n",
    "                                batch_size=16, \n",
    "                                balanced_sampling=True,resolution=512)"
   ]
  },
  {
   "cell_type": "code",
   "execution_count": 13,
   "metadata": {},
   "outputs": [],
   "source": [
    "# dm.setup()"
   ]
  },
  {
   "cell_type": "code",
   "execution_count": 14,
   "metadata": {},
   "outputs": [],
   "source": [
    "# dl = dm.train_dataloader()"
   ]
  },
  {
   "cell_type": "code",
   "execution_count": 15,
   "metadata": {},
   "outputs": [],
   "source": [
    "# for batch in dl:\n",
    "#     break"
   ]
  },
  {
   "cell_type": "code",
   "execution_count": 16,
   "metadata": {},
   "outputs": [],
   "source": [
    "# labels = F.one_hot(batch[1].long(), 2).float().cuda() #TODO: remove\n"
   ]
  },
  {
   "cell_type": "code",
   "execution_count": 17,
   "metadata": {},
   "outputs": [],
   "source": [
    "# gan = gan.cuda()"
   ]
  },
  {
   "cell_type": "code",
   "execution_count": 18,
   "metadata": {},
   "outputs": [],
   "source": [
    "# batch[0] = batch[0].cuda()"
   ]
  },
  {
   "cell_type": "code",
   "execution_count": 19,
   "metadata": {},
   "outputs": [],
   "source": [
    "# batch[1] = batch[1].cuda()"
   ]
  },
  {
   "cell_type": "code",
   "execution_count": 20,
   "metadata": {},
   "outputs": [],
   "source": [
    "# with profiler.profile(record_shapes=True, profile_memory=True, use_cuda=True, with_stack=True) as prof:\n",
    "#     with profiler.record_function(\"model_inference\"):\n",
    "#         gan.training_step(batch, 0, 0)"
   ]
  },
  {
   "cell_type": "code",
   "execution_count": 21,
   "metadata": {},
   "outputs": [],
   "source": [
    "# with profiler.profile(record_shapes=True, profile_memory=True, use_cuda=True, with_stack=True) as prof:\n",
    "#     with profiler.record_function(\"model_inference\"):\n",
    "#         gan(4, labels)"
   ]
  },
  {
   "cell_type": "code",
   "execution_count": 22,
   "metadata": {},
   "outputs": [],
   "source": [
    "# kav = prof.key_averages()"
   ]
  },
  {
   "cell_type": "code",
   "execution_count": 23,
   "metadata": {},
   "outputs": [],
   "source": [
    "# kav.total_average()"
   ]
  },
  {
   "cell_type": "code",
   "execution_count": 24,
   "metadata": {},
   "outputs": [],
   "source": [
    "# a = torch.randn(1000000, 3)\n",
    "# b = torch.randn(1000000, 3)\n",
    "\n",
    "# with torch.autograd.profiler.profile(use_cuda=True) as prof:\n",
    "#     torch.mm(a.T, b)\n",
    "# print(prof.key_averages().table(sort_by=\"self_cpu_time_total\"))\n",
    "# # Self CPU time total: 12.777ms\n",
    "# # CUDA time total: 12.951ms\n",
    "\n",
    "# a, b = a.cuda(), b.cuda()\n",
    "# with torch.autograd.profiler.profile(use_cuda=True) as prof:\n",
    "#     torch.mm(a.T, b)\n",
    "# print(prof.key_averages().table(sort_by=\"self_cpu_time_total\"))"
   ]
  },
  {
   "cell_type": "code",
   "execution_count": 22,
   "metadata": {},
   "outputs": [],
   "source": [
    "class Hooks(pl.Callback):\n",
    "    def on_epoch_end(self, trainer, module):\n",
    "        with torch.no_grad():\n",
    "            fake_images, fake_latents = gan.forward(6, \n",
    "                F.one_hot(\n",
    "                    torch.cat(\n",
    "                        (torch.zeros((3,)).long(),\n",
    "                        torch.ones((3,)).long())\n",
    "                    ), 2).float()\n",
    "                )\n",
    "            tensorboard = trainer.logger.experiment\n",
    "            grid = torchvision.utils.make_grid(fake_images)\n",
    "            tensorboard.add_image('images', grid, 0)"
   ]
  },
  {
   "cell_type": "code",
   "execution_count": 23,
   "metadata": {},
   "outputs": [
    {
     "output_type": "stream",
     "name": "stderr",
     "text": [
      "GPU available: False, used: False\n",
      "TPU available: None, using: 0 TPU cores\n"
     ]
    }
   ],
   "source": [
    "trainer = pl.Trainer(\n",
    "    benchmark=True,\n",
    "    automatic_optimization=False, gpus=1, \n",
    "    accumulate_grad_batches=1, \n",
    "    precision=32,\n",
    "    callbacks=[Hooks()],\n",
    "#   amp_backend='native', gradient_clip_val=10,\n",
    "#   amp_level='01',\n",
    "#   terminate_on_nan=True\n",
    ")"
   ]
  },
  {
   "cell_type": "code",
   "execution_count": 24,
   "metadata": {
    "scrolled": false
   },
   "outputs": [
    {
     "output_type": "stream",
     "name": "stderr",
     "text": [
      "\n",
      "  | Name          | Type             | Params\n",
      "---------------------------------------------------\n",
      "0 | mapping_net   | MappingNetwork   | 2.4 M \n",
      "1 | synthesis_net | SynthesisNetwork | 22.8 M\n",
      "2 | critic_net    | CriticNetwork    | 24.0 M\n",
      "---------------------------------------------------\n",
      "49.2 M    Trainable params\n",
      "0         Non-trainable params\n",
      "49.2 M    Total params\n",
      "196.621   Total estimated model params size (MB)\n",
      "Epoch 0:   0%|          | 0/7247 [00:00<?, ?it/s] "
     ]
    }
   ],
   "source": [
    "trainer.fit(gan, dm)"
   ]
  },
  {
   "cell_type": "code",
   "execution_count": 45,
   "metadata": {},
   "outputs": [],
   "source": [
    "gan = gan.cpu()"
   ]
  },
  {
   "cell_type": "code",
   "execution_count": 28,
   "metadata": {},
   "outputs": [],
   "source": [
    "# trainer.save_checkpoint(\"example_512_32.ckpt\")\n",
    "# new_model = MyModel.load_from_checkpoint(checkpoint_path=\"example.ckpt\")\n"
   ]
  },
  {
   "cell_type": "code",
   "execution_count": 31,
   "metadata": {},
   "outputs": [
    {
     "output_type": "execute_result",
     "data": {
      "text/plain": [
       "True"
      ]
     },
     "metadata": {},
     "execution_count": 31
    }
   ],
   "source": [
    "fake_images.requires_grad"
   ]
  },
  {
   "cell_type": "code",
   "execution_count": 38,
   "metadata": {},
   "outputs": [],
   "source": [
    "# with torch.no_grad():\n",
    "gan = gan.cuda()\n",
    "fake_images, fake_latents = gan.forward(8, F.one_hot(torch.ones((8,)).long(), 2).float().cuda(), mix_prob=1)\n",
    "# fake_latents.requires_grad_(True)\n",
    "# fake_images.requires_grad_(True)\n",
    "path_loss, path_lengths = gan.ppl_regularization(fake_images.cuda(), fake_latents.cuda())"
   ]
  },
  {
   "cell_type": "code",
   "execution_count": 50,
   "metadata": {},
   "outputs": [
    {
     "output_type": "execute_result",
     "data": {
      "text/plain": [
       "tensor(0.0066, device='cuda:0', grad_fn=<MeanBackward0>)"
      ]
     },
     "metadata": {},
     "execution_count": 50
    }
   ],
   "source": [
    "path_loss"
   ]
  },
  {
   "cell_type": "code",
   "execution_count": 40,
   "metadata": {},
   "outputs": [
    {
     "output_type": "execute_result",
     "data": {
      "text/plain": [
       "tensor([0.4330, 0.3902, 0.2958, 0.3282, 0.3612, 0.3524, 0.2439, 0.4665],\n",
       "       device='cuda:0', grad_fn=<SqrtBackward>)"
      ]
     },
     "metadata": {},
     "execution_count": 40
    }
   ],
   "source": [
    "path_lengths"
   ]
  },
  {
   "cell_type": "code",
   "execution_count": 24,
   "metadata": {},
   "outputs": [],
   "source": [
    "# path_loss, path_lengths = gan.ppl_regularization(fake_images, fake_latents)"
   ]
  },
  {
   "cell_type": "code",
   "execution_count": null,
   "metadata": {},
   "outputs": [],
   "source": []
  },
  {
   "cell_type": "code",
   "execution_count": null,
   "metadata": {},
   "outputs": [],
   "source": [
    "# gan.requires_grad_(True)"
   ]
  },
  {
   "cell_type": "code",
   "execution_count": null,
   "metadata": {},
   "outputs": [],
   "source": [
    "# fake_images, fake_latents = gan.forward(8, F.one_hot(torch.zeros((8,)).long(), 2).float(), mix_prob=0)\n",
    "# path_loss, path_lengths = gan.ppl_regularization(fake_images, fake_latents)"
   ]
  },
  {
   "cell_type": "code",
   "execution_count": null,
   "metadata": {},
   "outputs": [],
   "source": [
    "# path_lengths"
   ]
  },
  {
   "cell_type": "code",
   "execution_count": 61,
   "metadata": {},
   "outputs": [],
   "source": [
    "with torch.no_grad():\n",
    "    fake_images, fake_latents = gan(8, F.one_hot(torch.zeros((8,)).long(), 2).float())"
   ]
  },
  {
   "cell_type": "code",
   "execution_count": 49,
   "metadata": {},
   "outputs": [
    {
     "output_type": "execute_result",
     "data": {
      "text/plain": [
       "tensor([0.4330, 0.3902, 0.2958, 0.3282, 0.3612, 0.3524, 0.2439, 0.4665],\n",
       "       device='cuda:0', grad_fn=<SqrtBackward>)"
      ]
     },
     "metadata": {},
     "execution_count": 49
    }
   ],
   "source": [
    "path_lengths"
   ]
  },
  {
   "cell_type": "code",
   "execution_count": 14,
   "metadata": {},
   "outputs": [],
   "source": [
    "def make_image(tensor):\n",
    "    return (\n",
    "        tensor.detach()\n",
    "        .clamp_(min=-1, max=1)\n",
    "        .add(1)\n",
    "        .div_(2)\n",
    "        .mul(255)\n",
    "        .type(torch.uint8)\n",
    "        .permute(1, 2, 0)\n",
    "        .to(\"cpu\")\n",
    "        .numpy())"
   ]
  },
  {
   "cell_type": "code",
   "execution_count": 15,
   "metadata": {},
   "outputs": [],
   "source": [
    "from IPython.display import display, HTML\n",
    "import ipywidgets as widgets\n",
    "from ipywidgets import interact, interact_manual"
   ]
  },
  {
   "cell_type": "code",
   "execution_count": 16,
   "metadata": {},
   "outputs": [],
   "source": [
    "noise = gan.synthesis_net.make_noise(1)"
   ]
  },
  {
   "cell_type": "code",
   "execution_count": 64,
   "metadata": {},
   "outputs": [
    {
     "output_type": "display_data",
     "data": {
      "text/plain": "interactive(children=(IntSlider(value=3, description='i', max=7), IntSlider(value=3, description='j', max=7), …",
      "application/vnd.jupyter.widget-view+json": {
       "version_major": 2,
       "version_minor": 0,
       "model_id": "e96a13f8771e4b03a0de737420cf5af4"
      }
     },
     "metadata": {}
    }
   ],
   "source": [
    "@interact\n",
    "def play_with_mix(i=(0,7,1), j=(0,7,1), c=(0,1,0.05), nc=(0,1,0.1)):\n",
    "    with torch.no_grad():\n",
    "    #     print(path_lengths[j].item())\n",
    "        n = torch.randn_like(fake_latents[i][None, :, :]) * 0.2\n",
    "        latend = (c * fake_latents[i][None, :, :] + (1 -c) * fake_latents[j][None, :, :]) \n",
    "        plt.imshow(make_image(gan.synthesis_net.forward(latend + n * nc, noise)[0]))"
   ]
  },
  {
   "cell_type": "code",
   "execution_count": null,
   "metadata": {},
   "outputs": [],
   "source": [
    "fake_latents.shape"
   ]
  },
  {
   "cell_type": "code",
   "execution_count": null,
   "metadata": {},
   "outputs": [],
   "source": [
    "# flatents = fake_latents[:,0]"
   ]
  },
  {
   "cell_type": "code",
   "execution_count": null,
   "metadata": {},
   "outputs": [],
   "source": [
    "with torch.no_grad():\n",
    "    fake_images, fake_latents = gan.forward(8, F.one_hot(torch.zeros((8,)).long(), 2).float(), mix_prob=1)"
   ]
  },
  {
   "cell_type": "code",
   "execution_count": null,
   "metadata": {},
   "outputs": [],
   "source": [
    "flatents = torch.flatten(fake_latents,start_dim=1)"
   ]
  },
  {
   "cell_type": "code",
   "execution_count": null,
   "metadata": {},
   "outputs": [],
   "source": [
    "# flatents_photo = torch.flatten(fake_latents_photo,start_dim=1)\n"
   ]
  },
  {
   "cell_type": "code",
   "execution_count": null,
   "metadata": {},
   "outputs": [],
   "source": [
    "torch.cdist(flatents, flatents)[0] "
   ]
  },
  {
   "cell_type": "code",
   "execution_count": null,
   "metadata": {},
   "outputs": [],
   "source": [
    "with torch.no_grad():\n",
    "    img = gan.synthesis_net(fake_latents)\n",
    "    lblz = F.one_hot(torch.zeros((8,)).long(), 2).float()\n",
    "    _, activations = gan.critic_net.forward(img, lblz, return_activations=True)\n",
    "    projection = gan.auxiliary_projector.forward(activations[-1])"
   ]
  },
  {
   "cell_type": "code",
   "execution_count": null,
   "metadata": {},
   "outputs": [],
   "source": [
    "torch.cdist(projection, projection)[0] "
   ]
  },
  {
   "cell_type": "code",
   "execution_count": null,
   "metadata": {},
   "outputs": [],
   "source": [
    "F.mse_loss(torch.cdist(flatents, flatents)[0] , torch.cdist(projection, projection)[0] )"
   ]
  },
  {
   "cell_type": "code",
   "execution_count": null,
   "metadata": {},
   "outputs": [],
   "source": []
  },
  {
   "cell_type": "code",
   "execution_count": null,
   "metadata": {},
   "outputs": [],
   "source": [
    "import scipy"
   ]
  },
  {
   "cell_type": "code",
   "execution_count": null,
   "metadata": {},
   "outputs": [],
   "source": [
    "from scipy import spatial"
   ]
  },
  {
   "cell_type": "code",
   "execution_count": null,
   "metadata": {},
   "outputs": [],
   "source": [
    "bath_size = 32\n",
    "with torch.no_grad():\n",
    "    latents = []\n",
    "    for _ in range(128):\n",
    "        z = torch.randn((bath_size, 512))\n",
    "        l =  F.one_hot(torch.zeros((bath_size, )).long(), 2).float()\n",
    "        w = gan.mapping_net.forward(z, l).detach().numpy()\n",
    "        latents.append(w)"
   ]
  },
  {
   "cell_type": "code",
   "execution_count": null,
   "metadata": {},
   "outputs": [],
   "source": [
    "bath_size = 32\n",
    "with torch.no_grad():\n",
    "    latents_photo = []\n",
    "    for _ in range(128):\n",
    "        z = torch.randn((bath_size, 512))\n",
    "        l =  F.one_hot(torch.ones((bath_size, )).long(), 2).float()\n",
    "        w = gan.mapping_net.forward(z, l).detach().numpy()\n",
    "        latents_photo.append(w)"
   ]
  },
  {
   "cell_type": "code",
   "execution_count": null,
   "metadata": {},
   "outputs": [],
   "source": [
    "def unfuck(x):\n",
    "    return np.maximum(0, x) + 5.0 * np.minimum(0, x)"
   ]
  },
  {
   "cell_type": "code",
   "execution_count": null,
   "metadata": {},
   "outputs": [],
   "source": [
    "latents_photo =  np.concatenate(latents_photo, axis=0)"
   ]
  },
  {
   "cell_type": "code",
   "execution_count": null,
   "metadata": {},
   "outputs": [],
   "source": [
    "latents = np.concatenate(latents, axis=0)"
   ]
  },
  {
   "cell_type": "code",
   "execution_count": null,
   "metadata": {},
   "outputs": [],
   "source": [
    "np.save('latents.npy', unfuck(latents))\n",
    "np.save('latents_photo.npy', unfuck(latents_photo))"
   ]
  },
  {
   "cell_type": "code",
   "execution_count": null,
   "metadata": {
    "scrolled": true
   },
   "outputs": [],
   "source": [
    "for i in range(32):\n",
    "    _ = plt.hist(unfuck(latents[:, i]), bins=100)\n",
    "    _ = plt.hist(unfuck(latents_photo[:, i]), bins=100, alpha=0.5)\n",
    "    plt.show()"
   ]
  },
  {
   "cell_type": "code",
   "execution_count": null,
   "metadata": {},
   "outputs": [],
   "source": []
  },
  {
   "cell_type": "code",
   "execution_count": null,
   "metadata": {},
   "outputs": [],
   "source": []
  },
  {
   "cell_type": "code",
   "execution_count": null,
   "metadata": {},
   "outputs": [],
   "source": [
    "d = spatial.distance.cdist(latents, latents)"
   ]
  },
  {
   "cell_type": "code",
   "execution_count": null,
   "metadata": {},
   "outputs": [],
   "source": []
  },
  {
   "cell_type": "code",
   "execution_count": null,
   "metadata": {},
   "outputs": [],
   "source": [
    "d_id = spatial.distance.cdist(latents, latents_photo)"
   ]
  },
  {
   "cell_type": "code",
   "execution_count": null,
   "metadata": {},
   "outputs": [],
   "source": [
    "d_p = spatial.distance.cdist(latents_photo, latents_photo)"
   ]
  },
  {
   "cell_type": "code",
   "execution_count": null,
   "metadata": {},
   "outputs": [],
   "source": [
    "d_flat = d.ravel()[d.ravel() > 0]"
   ]
  },
  {
   "cell_type": "code",
   "execution_count": null,
   "metadata": {},
   "outputs": [],
   "source": [
    "d_id_flat = d_id.ravel()[d_id.ravel() > 0]"
   ]
  },
  {
   "cell_type": "code",
   "execution_count": null,
   "metadata": {},
   "outputs": [],
   "source": [
    "d_p = d_p.ravel()[d_p.ravel() > 0]"
   ]
  },
  {
   "cell_type": "code",
   "execution_count": null,
   "metadata": {},
   "outputs": [],
   "source": [
    "plt.hist(d_flat, bins=100)\n",
    "plt.hist(d_id_flat, bins=100, alpha=0.5)\n",
    "plt.hist(d_p, bins=100, alpha=0.5, label='photos')"
   ]
  },
  {
   "cell_type": "code",
   "execution_count": null,
   "metadata": {},
   "outputs": [],
   "source": []
  },
  {
   "cell_type": "code",
   "execution_count": null,
   "metadata": {},
   "outputs": [],
   "source": []
  },
  {
   "cell_type": "code",
   "execution_count": null,
   "metadata": {},
   "outputs": [],
   "source": []
  },
  {
   "cell_type": "code",
   "execution_count": null,
   "metadata": {},
   "outputs": [],
   "source": []
  },
  {
   "cell_type": "code",
   "execution_count": null,
   "metadata": {},
   "outputs": [],
   "source": []
  },
  {
   "cell_type": "code",
   "execution_count": null,
   "metadata": {},
   "outputs": [],
   "source": []
  },
  {
   "cell_type": "code",
   "execution_count": null,
   "metadata": {},
   "outputs": [],
   "source": []
  },
  {
   "cell_type": "code",
   "execution_count": null,
   "metadata": {},
   "outputs": [],
   "source": []
  },
  {
   "cell_type": "code",
   "execution_count": null,
   "metadata": {},
   "outputs": [],
   "source": [
    "r = torch.randperm(8)\n",
    "r"
   ]
  },
  {
   "cell_type": "code",
   "execution_count": null,
   "metadata": {},
   "outputs": [],
   "source": [
    "torch.pairwise_distance(a1_flat, a1_flat[r])"
   ]
  },
  {
   "cell_type": "code",
   "execution_count": null,
   "metadata": {},
   "outputs": [],
   "source": [
    "with torch.no_grad():\n",
    "    gan.critic_net(a[0], F.one_hot(torch.randint(0, 2, (4,)), 2).float())"
   ]
  },
  {
   "cell_type": "code",
   "execution_count": null,
   "metadata": {},
   "outputs": [],
   "source": [
    "dl = dm.train_dataloader()"
   ]
  },
  {
   "cell_type": "code",
   "execution_count": null,
   "metadata": {},
   "outputs": [],
   "source": [
    "for imz, lbz in dl:\n",
    "    break"
   ]
  },
  {
   "cell_type": "code",
   "execution_count": null,
   "metadata": {},
   "outputs": [],
   "source": [
    "lbz[1]"
   ]
  },
  {
   "cell_type": "code",
   "execution_count": null,
   "metadata": {},
   "outputs": [],
   "source": [
    "a_cpu = make_image(imz[3])\n",
    "plt.imshow(a_cpu)"
   ]
  },
  {
   "cell_type": "markdown",
   "metadata": {},
   "source": [
    "37/40875 [03:16<60:23:08, 5.32s/it, loss=nan, v_num=31, path_lengths=0.379, generator_loss=2.03, critic_loss=1.42"
   ]
  },
  {
   "cell_type": "code",
   "execution_count": null,
   "metadata": {},
   "outputs": [],
   "source": [
    "skorez = gan.critic_net(imz, F.one_hot(lbz, 2))"
   ]
  },
  {
   "cell_type": "code",
   "execution_count": null,
   "metadata": {},
   "outputs": [],
   "source": [
    "jopa = torch.mean(skorez)"
   ]
  },
  {
   "cell_type": "code",
   "execution_count": null,
   "metadata": {},
   "outputs": [],
   "source": [
    "jopa.backward()"
   ]
  },
  {
   "cell_type": "code",
   "execution_count": null,
   "metadata": {},
   "outputs": [],
   "source": [
    "skorez.grad"
   ]
  },
  {
   "cell_type": "code",
   "execution_count": null,
   "metadata": {},
   "outputs": [],
   "source": [
    "gan."
   ]
  },
  {
   "cell_type": "code",
   "execution_count": null,
   "metadata": {},
   "outputs": [],
   "source": [
    "a = gan(8, F.one_hot(torch.randint(0, 2, (8,)), 2).float())"
   ]
  },
  {
   "cell_type": "code",
   "execution_count": null,
   "metadata": {},
   "outputs": [],
   "source": [
    "jopel = torch.mean(a[0])"
   ]
  },
  {
   "cell_type": "code",
   "execution_count": null,
   "metadata": {},
   "outputs": [],
   "source": [
    "jopel.backward()"
   ]
  },
  {
   "cell_type": "code",
   "execution_count": null,
   "metadata": {},
   "outputs": [],
   "source": [
    "jopel.grad"
   ]
  },
  {
   "cell_type": "code",
   "execution_count": null,
   "metadata": {},
   "outputs": [],
   "source": []
  }
 ],
 "metadata": {
  "kernelspec": {
   "display_name": "torch-cu112",
   "language": "python",
   "name": "torch-cu112"
  },
  "language_info": {
   "codemirror_mode": {
    "name": "ipython",
    "version": 3
   },
   "file_extension": ".py",
   "mimetype": "text/x-python",
   "name": "python",
   "nbconvert_exporter": "python",
   "pygments_lexer": "ipython3",
   "version": "3.8.8-final"
  }
 },
 "nbformat": 4,
 "nbformat_minor": 4
}